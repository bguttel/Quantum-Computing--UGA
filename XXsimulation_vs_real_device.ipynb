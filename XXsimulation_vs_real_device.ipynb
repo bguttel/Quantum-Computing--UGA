{
 "cells": [
  {
   "cell_type": "code",
   "execution_count": 1,
   "metadata": {},
   "outputs": [],
   "source": [
    "%matplotlib inline\n",
    "# Importing standard Qiskit libraries and configuring account\n",
    "from qiskit import QuantumCircuit, execute, Aer, IBMQ\n",
    "from qiskit.compiler import transpile, assemble\n",
    "from qiskit.tools.jupyter import *\n",
    "from qiskit.visualization import *\n",
    "# Loading your IBM Q account(s)\n",
    "provider = IBMQ.load_account()"
   ]
  },
  {
   "cell_type": "code",
   "execution_count": 5,
   "metadata": {},
   "outputs": [
    {
     "name": "stdout",
     "output_type": "stream",
     "text": [
      "{'0': 486, '1': 538}\n",
      "Job Status: job has successfully run\n"
     ]
    },
    {
     "data": {
      "image/png": "[encoded data removed]",
      "text/plain": [
       "<Figure size 504x360 with 1 Axes>"
      ]
     },
     "execution_count": 5,
     "metadata": {},
     "output_type": "execute_result"
    }
   ],
   "source": [
    "import numpy as np\n",
    "from qiskit import *\n",
    "%matplotlib inline\n",
    "\n",
    "circ = QuantumCircuit(3,1)\n",
    "circ.h(0)\n",
    "circ.h(1)\n",
    "circ.cx(0, 2)\n",
    "circ.cx(1, 2)\n",
    "circ.measure(2,0)\n",
    "circ.draw()\n",
    "\n",
    "backend_sim = Aer.get_backend('qasm_simulator')\n",
    "job_sim = execute(circ, backend_sim, shots=1024)\n",
    "result_sim = job_sim.result()\n",
    "\n",
    "counts = result_sim.get_counts(circ)\n",
    "print(counts)\n",
    "\n",
    "backend = provider.get_backend('ibmq_london')\n",
    "\n",
    "from qiskit.visualization import plot_histogram\n",
    "plot_histogram(counts)\n",
    "\n",
    "#from qiskit import IBMQ\n",
    "#IBMQ.load_account()\n",
    "#IBMQ.providers()\n",
    "#provider = IBMQ.get_provider(group='open')\n",
    "#provider.backends()\n",
    "\n",
    "backend = provider.get_backend('ibmq_london')\n",
    "\n",
    "from qiskit.tools.monitor import job_monitor\n",
    "\n",
    "job_exp = execute(circ, backend=backend)\n",
    "job_monitor(job_exp)\n",
    "\n",
    "result_exp = job_exp.result()\n",
    "\n",
    "counts_exp = result_exp.get_counts(circ)\n",
    "plot_histogram([counts_exp,counts], legend=['Device', 'Simulator'])\n",
    "\n",
    "#results analysis\n",
    "\n",
    "#the simulation has been done 1024 times. The statistical error (3,1%) can be observed as the results are\n",
    "#not exactly equaly divided into \"0\" and \"1\".\n",
    "\n",
    "#the computation on the real device reveals error due to the qubits : the \"0\" is favoured (60%) compared to\n",
    "# \"1\" (40%) as the qubits \"prefer\" their fondamental state\n",
    "\n",
    "\n",
    "\n"
   ]
  },
  {
   "cell_type": "code",
   "execution_count": null,
   "metadata": {},
   "outputs": [],
   "source": []
  }
 ],
 "metadata": {
  "kernelspec": {
   "display_name": "Python 3",
   "language": "python",
   "name": "python3"
  },
  "language_info": {
   "codemirror_mode": {
    "name": "ipython",
    "version": 3
   },
   "file_extension": ".py",
   "mimetype": "text/x-python",
   "name": "python",
   "nbconvert_exporter": "python",
   "pygments_lexer": "ipython3",
   "version": "3.7.3"
  }
 },
 "nbformat": 4,
 "nbformat_minor": 2
}
